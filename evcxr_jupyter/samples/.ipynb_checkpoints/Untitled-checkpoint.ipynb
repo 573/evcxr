{
 "cells": [
  {
   "cell_type": "code",
   "execution_count": 9,
   "metadata": {},
   "outputs": [],
   "source": [
    "let a = Some(String::new());"
   ]
  },
  {
   "cell_type": "code",
   "execution_count": 10,
   "metadata": {},
   "outputs": [
    {
     "ename": "Error",
     "evalue": "use of moved value: `a`",
     "output_type": "error",
     "traceback": [
      "a.unwrap()",
      "\u001b[91m^\u001b[0m \u001b[94mvalue moved here\u001b[0m",
      "use of moved value: `a`"
     ]
    }
   ],
   "source": [
    "a.unwrap()"
   ]
  },
  {
   "cell_type": "code",
   "execution_count": 7,
   "metadata": {},
   "outputs": [
    {
     "data": {
      "text/html": [
       "<table><tr><th>Variable</th><th>Type</th></tr><tr><td>a</td><td>std::option::Option&lt;std::string::String&gt;</td><tr></table>"
      ],
      "text/plain": [
       "a: std::option::Option<std::string::String>\n"
      ]
     },
     "execution_count": 7,
     "metadata": {},
     "output_type": "execute_result"
    }
   ],
   "source": [
    ":vars"
   ]
  },
  {
   "cell_type": "code",
   "execution_count": null,
   "metadata": {},
   "outputs": [],
   "source": []
  }
 ],
 "metadata": {
  "kernelspec": {
   "display_name": "Rust",
   "language": "rust",
   "name": "rust"
  },
  "language_info": {
   "file_extension": ".rs",
   "mimetype": "text/rust",
   "name": "Rust",
   "version": ""
  }
 },
 "nbformat": 4,
 "nbformat_minor": 2
}
